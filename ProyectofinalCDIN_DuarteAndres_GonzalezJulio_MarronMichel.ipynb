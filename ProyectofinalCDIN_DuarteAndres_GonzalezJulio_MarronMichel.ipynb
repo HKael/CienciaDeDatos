{
 "cells": [
  {
   "cell_type": "code",
   "execution_count": 1,
   "metadata": {},
   "outputs": [],
   "source": [
    "import pandas as pd\n",
    "import numpy as np\n",
    "import matplotlib.pyplot as plt\n",
    "import scipy.optimize as opt\n",
    "\n",
    "from scipy.cluster import hierarchy\n",
    "import scipy.spatial.distance as sc\n",
    "\n",
    "from sklearn.decomposition import PCA\n",
    "from sklearn.preprocessing import StandardScaler\n",
    "\n",
    "from sklearn import linear_model,svm\n",
    "from sklearn.metrics import(accuracy_score,\n",
    "                            precision_score,\n",
    "                            recall_score)\n",
    "import seaborn as sb\n",
    "from sklearn.cluster import KMeans\n",
    "from sklearn.metrics import pairwise_distances_argmin_min\n",
    "from mpl_toolkits.mplot3d import Axes3D\n",
    "\n",
    "def dqr(data): #Data Quality Report\n",
    "        #%%Lista de variables de la base de datos\n",
    "        import pandas as pd\n",
    "        columns = pd.DataFrame(list(data.columns.values),\n",
    "                               columns = [\"Nombres\"],\n",
    "                               index= list(data.columns.values))\n",
    "        #%%Lista de tipos de datos\n",
    "        data_types = pd.DataFrame(data.dtypes,columns = [\"Data_Types\"])\n",
    "        #%%Lista de tipos de datos perdidos\n",
    "        missing_values = pd.DataFrame(data.isnull().sum(),\n",
    "                                      columns = [\"Missing_Values\"])\n",
    "        #%%Lista de datos presentes\n",
    "        present_values = pd.DataFrame(data.count(),\n",
    "                                      columns = [\"Present_Values\"])\n",
    "        #%%Lista de valores unicos\n",
    "        unique_values = pd.DataFrame(columns = [\"Unique_Values\"])\n",
    "        for col in list(data.columns.values):\n",
    "            unique_values.loc[col] = [data[col].nunique()]\n",
    "        #%% lista de valores mínimos\n",
    "        min_values = pd.DataFrame(columns =[\"Min\"])\n",
    "        for col in list(data.columns.values):\n",
    "            try:\n",
    "                min_values.loc[col] = [data[col].min()]\n",
    "            except:\n",
    "                pass\n",
    "        #%% lista de valores máximos\n",
    "        max_values = pd.DataFrame(columns =[\"Max\"])\n",
    "        \n",
    "        \n",
    "        for col in list(data.columns.values):\n",
    "            try:\n",
    "                max_values.loc[col] = [data[col].max()]\n",
    "            except:\n",
    "                pass\n",
    "        #%% Juntar todas las tablas\n",
    "        return columns.join(data_types).join(missing_values).join(present_values).join(unique_values).join(min_values).join(max_values)\n",
    "    # Reemplazar texto\n",
    "def replace_text(x,to_replace,replacement):\n",
    "    try:\n",
    "        x = x.replace(to_replace,replacement)\n",
    "    except:\n",
    "        pass\n",
    "    return x"
   ]
  },
  {
   "cell_type": "markdown",
   "metadata": {},
   "source": [
    "## Descarga de la base de datos por trabajar (Desempleo en Jalisco)"
   ]
  },
  {
   "cell_type": "code",
   "execution_count": 2,
   "metadata": {},
   "outputs": [
    {
     "data": {
      "text/html": [
       "<div>\n",
       "<style scoped>\n",
       "    .dataframe tbody tr th:only-of-type {\n",
       "        vertical-align: middle;\n",
       "    }\n",
       "\n",
       "    .dataframe tbody tr th {\n",
       "        vertical-align: top;\n",
       "    }\n",
       "\n",
       "    .dataframe thead th {\n",
       "        text-align: right;\n",
       "    }\n",
       "</style>\n",
       "<table border=\"1\" class=\"dataframe\">\n",
       "  <thead>\n",
       "    <tr style=\"text-align: right;\">\n",
       "      <th></th>\n",
       "      <th>Año</th>\n",
       "      <th>Trimestre</th>\n",
       "      <th>Tasa de desocupación</th>\n",
       "    </tr>\n",
       "  </thead>\n",
       "  <tbody>\n",
       "    <tr>\n",
       "      <th>0</th>\n",
       "      <td>2005</td>\n",
       "      <td>Primer trimestre</td>\n",
       "      <td>3,7</td>\n",
       "    </tr>\n",
       "    <tr>\n",
       "      <th>1</th>\n",
       "      <td>2005</td>\n",
       "      <td>Segundo trimestre</td>\n",
       "      <td>2,9</td>\n",
       "    </tr>\n",
       "    <tr>\n",
       "      <th>2</th>\n",
       "      <td>2005</td>\n",
       "      <td>Tercer trimestre</td>\n",
       "      <td>4,2</td>\n",
       "    </tr>\n",
       "    <tr>\n",
       "      <th>3</th>\n",
       "      <td>2005</td>\n",
       "      <td>Cuarto trimestre</td>\n",
       "      <td>3,4</td>\n",
       "    </tr>\n",
       "    <tr>\n",
       "      <th>4</th>\n",
       "      <td>2006</td>\n",
       "      <td>Primer trimestre</td>\n",
       "      <td>3,9</td>\n",
       "    </tr>\n",
       "  </tbody>\n",
       "</table>\n",
       "</div>"
      ],
      "text/plain": [
       "    Año          Trimestre    Tasa de desocupación\n",
       "0  2005   Primer trimestre                     3,7\n",
       "1  2005  Segundo trimestre                     2,9\n",
       "2  2005   Tercer trimestre                     4,2\n",
       "3  2005   Cuarto trimestre                     3,4\n",
       "4  2006   Primer trimestre                     3,9"
      ]
     },
     "execution_count": 2,
     "metadata": {},
     "output_type": "execute_result"
    }
   ],
   "source": [
    "desempleo = pd.read_excel('../Data/tasa-desempleo-jalisco-2005-2019.xlsx')\n",
    "desempleo = pd.DataFrame(desempleo)\n",
    "desempleo.head(5)\n",
    "\n"
   ]
  },
  {
   "cell_type": "markdown",
   "metadata": {},
   "source": [
    "## Limpieza para convertir en número la variable trimestre y la tasa de desocupación"
   ]
  },
  {
   "cell_type": "code",
   "execution_count": 3,
   "metadata": {},
   "outputs": [
    {
     "data": {
      "text/html": [
       "<div>\n",
       "<style scoped>\n",
       "    .dataframe tbody tr th:only-of-type {\n",
       "        vertical-align: middle;\n",
       "    }\n",
       "\n",
       "    .dataframe tbody tr th {\n",
       "        vertical-align: top;\n",
       "    }\n",
       "\n",
       "    .dataframe thead th {\n",
       "        text-align: right;\n",
       "    }\n",
       "</style>\n",
       "<table border=\"1\" class=\"dataframe\">\n",
       "  <thead>\n",
       "    <tr style=\"text-align: right;\">\n",
       "      <th></th>\n",
       "      <th>Año</th>\n",
       "      <th>Trimestre</th>\n",
       "      <th>Tasa de desocupación</th>\n",
       "    </tr>\n",
       "  </thead>\n",
       "  <tbody>\n",
       "    <tr>\n",
       "      <th>0</th>\n",
       "      <td>2005</td>\n",
       "      <td>Primer trimestre</td>\n",
       "      <td>3.7</td>\n",
       "    </tr>\n",
       "    <tr>\n",
       "      <th>1</th>\n",
       "      <td>2005</td>\n",
       "      <td>Segundo trimestre</td>\n",
       "      <td>2.9</td>\n",
       "    </tr>\n",
       "    <tr>\n",
       "      <th>2</th>\n",
       "      <td>2005</td>\n",
       "      <td>Tercer trimestre</td>\n",
       "      <td>4.2</td>\n",
       "    </tr>\n",
       "    <tr>\n",
       "      <th>3</th>\n",
       "      <td>2005</td>\n",
       "      <td>Cuarto trimestre</td>\n",
       "      <td>3.4</td>\n",
       "    </tr>\n",
       "    <tr>\n",
       "      <th>4</th>\n",
       "      <td>2006</td>\n",
       "      <td>Primer trimestre</td>\n",
       "      <td>3.9</td>\n",
       "    </tr>\n",
       "    <tr>\n",
       "      <th>5</th>\n",
       "      <td>2006</td>\n",
       "      <td>Segundo trimestre</td>\n",
       "      <td>2.7</td>\n",
       "    </tr>\n",
       "    <tr>\n",
       "      <th>6</th>\n",
       "      <td>2006</td>\n",
       "      <td>Tercer trimestre</td>\n",
       "      <td>3.9</td>\n",
       "    </tr>\n",
       "    <tr>\n",
       "      <th>7</th>\n",
       "      <td>2006</td>\n",
       "      <td>Cuarto trimestre</td>\n",
       "      <td>3.7</td>\n",
       "    </tr>\n",
       "    <tr>\n",
       "      <th>8</th>\n",
       "      <td>2007</td>\n",
       "      <td>Primer trimestre</td>\n",
       "      <td>3.4</td>\n",
       "    </tr>\n",
       "    <tr>\n",
       "      <th>9</th>\n",
       "      <td>2007</td>\n",
       "      <td>Segundo trimestre</td>\n",
       "      <td>2.9</td>\n",
       "    </tr>\n",
       "  </tbody>\n",
       "</table>\n",
       "</div>"
      ],
      "text/plain": [
       "    Año          Trimestre  Tasa de desocupación\n",
       "0  2005   Primer trimestre                   3.7\n",
       "1  2005  Segundo trimestre                   2.9\n",
       "2  2005   Tercer trimestre                   4.2\n",
       "3  2005   Cuarto trimestre                   3.4\n",
       "4  2006   Primer trimestre                   3.9\n",
       "5  2006  Segundo trimestre                   2.7\n",
       "6  2006   Tercer trimestre                   3.9\n",
       "7  2006   Cuarto trimestre                   3.7\n",
       "8  2007   Primer trimestre                   3.4\n",
       "9  2007  Segundo trimestre                   2.9"
      ]
     },
     "execution_count": 3,
     "metadata": {},
     "output_type": "execute_result"
    }
   ],
   "source": [
    "desempleo=desempleo.rename(columns = {\"   Tasa de desocupación\":\"Tasa de desocupación\"})\n",
    "desempleo['Tasa de desocupación']= desempleo['Tasa de desocupación'].apply(replace_text,args=(',','.'))\n",
    "desempleo[\"Tasa de desocupación\"] = pd.to_numeric(desempleo[\"Tasa de desocupación\"])\n",
    "desempleo.head(10)"
   ]
  },
  {
   "cell_type": "code",
   "execution_count": 4,
   "metadata": {},
   "outputs": [
    {
     "data": {
      "text/html": [
       "<div>\n",
       "<style scoped>\n",
       "    .dataframe tbody tr th:only-of-type {\n",
       "        vertical-align: middle;\n",
       "    }\n",
       "\n",
       "    .dataframe tbody tr th {\n",
       "        vertical-align: top;\n",
       "    }\n",
       "\n",
       "    .dataframe thead th {\n",
       "        text-align: right;\n",
       "    }\n",
       "</style>\n",
       "<table border=\"1\" class=\"dataframe\">\n",
       "  <thead>\n",
       "    <tr style=\"text-align: right;\">\n",
       "      <th></th>\n",
       "      <th>Año</th>\n",
       "      <th>Trimestre</th>\n",
       "      <th>Tasa de desocupación</th>\n",
       "    </tr>\n",
       "  </thead>\n",
       "  <tbody>\n",
       "    <tr>\n",
       "      <th>0</th>\n",
       "      <td>2005</td>\n",
       "      <td>1</td>\n",
       "      <td>3.7</td>\n",
       "    </tr>\n",
       "    <tr>\n",
       "      <th>1</th>\n",
       "      <td>2005</td>\n",
       "      <td>2</td>\n",
       "      <td>2.9</td>\n",
       "    </tr>\n",
       "    <tr>\n",
       "      <th>2</th>\n",
       "      <td>2005</td>\n",
       "      <td>3</td>\n",
       "      <td>4.2</td>\n",
       "    </tr>\n",
       "    <tr>\n",
       "      <th>3</th>\n",
       "      <td>2005</td>\n",
       "      <td>4</td>\n",
       "      <td>3.4</td>\n",
       "    </tr>\n",
       "    <tr>\n",
       "      <th>4</th>\n",
       "      <td>2006</td>\n",
       "      <td>1</td>\n",
       "      <td>3.9</td>\n",
       "    </tr>\n",
       "    <tr>\n",
       "      <th>5</th>\n",
       "      <td>2006</td>\n",
       "      <td>2</td>\n",
       "      <td>2.7</td>\n",
       "    </tr>\n",
       "    <tr>\n",
       "      <th>6</th>\n",
       "      <td>2006</td>\n",
       "      <td>3</td>\n",
       "      <td>3.9</td>\n",
       "    </tr>\n",
       "    <tr>\n",
       "      <th>7</th>\n",
       "      <td>2006</td>\n",
       "      <td>4</td>\n",
       "      <td>3.7</td>\n",
       "    </tr>\n",
       "    <tr>\n",
       "      <th>8</th>\n",
       "      <td>2007</td>\n",
       "      <td>1</td>\n",
       "      <td>3.4</td>\n",
       "    </tr>\n",
       "    <tr>\n",
       "      <th>9</th>\n",
       "      <td>2007</td>\n",
       "      <td>2</td>\n",
       "      <td>2.9</td>\n",
       "    </tr>\n",
       "  </tbody>\n",
       "</table>\n",
       "</div>"
      ],
      "text/plain": [
       "    Año  Trimestre  Tasa de desocupación\n",
       "0  2005          1                   3.7\n",
       "1  2005          2                   2.9\n",
       "2  2005          3                   4.2\n",
       "3  2005          4                   3.4\n",
       "4  2006          1                   3.9\n",
       "5  2006          2                   2.7\n",
       "6  2006          3                   3.9\n",
       "7  2006          4                   3.7\n",
       "8  2007          1                   3.4\n",
       "9  2007          2                   2.9"
      ]
     },
     "execution_count": 4,
     "metadata": {},
     "output_type": "execute_result"
    }
   ],
   "source": [
    "desempleo.Trimestre = desempleo.Trimestre.apply(replace_text,args=('Primer trimestre','1'))\n",
    "desempleo.Trimestre = desempleo.Trimestre.apply(replace_text,args=('Segundo trimestre','2'))\n",
    "desempleo.Trimestre = desempleo.Trimestre.apply(replace_text,args=('Tercer trimestre','3'))\n",
    "desempleo.Trimestre = desempleo.Trimestre.apply(replace_text,args=('Cuarto trimestre','4'))\n",
    "desempleo.Trimestre = pd.to_numeric(desempleo.Trimestre)\n",
    "desempleo.head(10)"
   ]
  },
  {
   "cell_type": "markdown",
   "metadata": {},
   "source": [
    "## Reporte de calidad de los datos "
   ]
  },
  {
   "cell_type": "code",
   "execution_count": 5,
   "metadata": {},
   "outputs": [
    {
     "data": {
      "text/html": [
       "<div>\n",
       "<style scoped>\n",
       "    .dataframe tbody tr th:only-of-type {\n",
       "        vertical-align: middle;\n",
       "    }\n",
       "\n",
       "    .dataframe tbody tr th {\n",
       "        vertical-align: top;\n",
       "    }\n",
       "\n",
       "    .dataframe thead th {\n",
       "        text-align: right;\n",
       "    }\n",
       "</style>\n",
       "<table border=\"1\" class=\"dataframe\">\n",
       "  <thead>\n",
       "    <tr style=\"text-align: right;\">\n",
       "      <th></th>\n",
       "      <th>Nombres</th>\n",
       "      <th>Data_Types</th>\n",
       "      <th>Missing_Values</th>\n",
       "      <th>Present_Values</th>\n",
       "      <th>Unique_Values</th>\n",
       "      <th>Min</th>\n",
       "      <th>Max</th>\n",
       "    </tr>\n",
       "  </thead>\n",
       "  <tbody>\n",
       "    <tr>\n",
       "      <th>Año</th>\n",
       "      <td>Año</td>\n",
       "      <td>int64</td>\n",
       "      <td>0</td>\n",
       "      <td>57</td>\n",
       "      <td>15</td>\n",
       "      <td>2005</td>\n",
       "      <td>2019</td>\n",
       "    </tr>\n",
       "    <tr>\n",
       "      <th>Trimestre</th>\n",
       "      <td>Trimestre</td>\n",
       "      <td>int64</td>\n",
       "      <td>0</td>\n",
       "      <td>57</td>\n",
       "      <td>4</td>\n",
       "      <td>1</td>\n",
       "      <td>4</td>\n",
       "    </tr>\n",
       "    <tr>\n",
       "      <th>Tasa de desocupación</th>\n",
       "      <td>Tasa de desocupación</td>\n",
       "      <td>float64</td>\n",
       "      <td>0</td>\n",
       "      <td>57</td>\n",
       "      <td>29</td>\n",
       "      <td>2.3</td>\n",
       "      <td>5.8</td>\n",
       "    </tr>\n",
       "  </tbody>\n",
       "</table>\n",
       "</div>"
      ],
      "text/plain": [
       "                                   Nombres Data_Types  Missing_Values  \\\n",
       "Año                                    Año      int64               0   \n",
       "Trimestre                        Trimestre      int64               0   \n",
       "Tasa de desocupación  Tasa de desocupación    float64               0   \n",
       "\n",
       "                      Present_Values Unique_Values   Min   Max  \n",
       "Año                               57            15  2005  2019  \n",
       "Trimestre                         57             4     1     4  \n",
       "Tasa de desocupación              57            29   2.3   5.8  "
      ]
     },
     "execution_count": 5,
     "metadata": {},
     "output_type": "execute_result"
    }
   ],
   "source": [
    "mireporte = dqr(desempleo)\n",
    "mireporte"
   ]
  },
  {
   "cell_type": "code",
   "execution_count": 6,
   "metadata": {},
   "outputs": [
    {
     "data": {
      "image/png": "[encoded data removed]",
      "text/plain": [
       "<Figure size 432x288 with 1 Axes>"
      ]
     },
     "metadata": {
      "needs_background": "light"
     },
     "output_type": "display_data"
    }
   ],
   "source": [
    "Nk= range(1,10)\n",
    "X = np.array(desempleo[['Tasa de desocupación','Trimestre']])\n",
    "kmeans = [KMeans(n_clusters = i) for i in Nk]\n",
    "score = [kmeans[i].fit(X).score(X) for i in range(len(kmeans))]\n",
    "fig2 = plt.figure()\n",
    "plt.plot(Nk, score)\n",
    "plt.xlabel('Numero de clusters')\n",
    "plt.ylabel('score')\n",
    "plt.title('Critero del codo')\n",
    "plt.show()\n"
   ]
  },
  {
   "cell_type": "markdown",
   "metadata": {},
   "source": [
    "Número optimo de clusters con Kmeans: De 2 donde se observa el la primera inflexión en la grafica, pero donde hay mayor  inflexion es con 4 clusters"
   ]
  },
  {
   "cell_type": "code",
   "execution_count": 7,
   "metadata": {},
   "outputs": [
    {
     "data": {
      "image/png": "[encoded data removed]",
      "text/plain": [
       "<Figure size 432x288 with 1 Axes>"
      ]
     },
     "metadata": {
      "needs_background": "light"
     },
     "output_type": "display_data"
    }
   ],
   "source": [
    "z = hierarchy.linkage(X,metric = 'euclidean', method = 'ward')\n",
    "plt.title('Dendograme completo')\n",
    "plt.xlabel('Indíce de la muestra')\n",
    "plt.ylabel('Distancia o Similaridad')\n",
    "dn=hierarchy.dendrogram(z)\n",
    "plt.show()"
   ]
  },
  {
   "cell_type": "code",
   "execution_count": 8,
   "metadata": {},
   "outputs": [
    {
     "data": {
      "image/png": "[encoded data removed]",
      "text/plain": [
       "<Figure size 432x288 with 1 Axes>"
      ]
     },
     "metadata": {
      "needs_background": "light"
     },
     "output_type": "display_data"
    }
   ],
   "source": [
    "#%% Modificar el aspecto del dendograma\n",
    "plt.figure()\n",
    "plt.title('Dendograme completo')\n",
    "plt.xlabel('Indíce de la muestra')\n",
    "plt.ylabel('Distancia o Similaridad')\n",
    "dn=hierarchy.dendrogram(z, truncate_mode='level',p=3)\n",
    "plt.show()\n"
   ]
  },
  {
   "cell_type": "markdown",
   "metadata": {},
   "source": [
    "Con el metodo del dendograma podemos ver que efectivamente se puede tener entre 2 y 4 clusters"
   ]
  },
  {
   "cell_type": "code",
   "execution_count": 9,
   "metadata": {},
   "outputs": [
    {
     "data": {
      "image/png": "[encoded data removed]",
      "text/plain": [
       "<Figure size 432x288 with 1 Axes>"
      ]
     },
     "metadata": {
      "needs_background": "light"
     },
     "output_type": "display_data"
    }
   ],
   "source": [
    "#%% Criterio del codo \n",
    "last = z[-20:,2]\n",
    "last_rev=last[::-1]\n",
    "idxs = np.arange(1,len(last_rev)+1)\n",
    "plt.plot(idxs,last_rev)\n",
    "plt.xlim(0,8)\n",
    "plt.show()"
   ]
  },
  {
   "cell_type": "markdown",
   "metadata": {},
   "source": [
    "El criterio del codo vemos los puntos 2 y 4 tienen mayor puntos de inflexion "
   ]
  },
  {
   "cell_type": "code",
   "execution_count": 10,
   "metadata": {},
   "outputs": [
    {
     "data": {
      "image/png": "[encoded data removed]",
      "text/plain": [
       "<Figure size 432x288 with 1 Axes>"
      ]
     },
     "metadata": {
      "needs_background": "light"
     },
     "output_type": "display_data"
    }
   ],
   "source": [
    "#%% Criterio del gradiente \n",
    "gradiente=np.diff(last)\n",
    "grad_rev=gradiente[::-1]\n",
    "plt.plot(idxs[1:],grad_rev)\n",
    "\n",
    "plt.xlabel('Numero de grupos')\n",
    "plt.ylabel('Gradiente distancia')\n",
    "plt.xlim(0,8)\n",
    "plt.show()"
   ]
  },
  {
   "cell_type": "markdown",
   "metadata": {},
   "source": [
    "El criterio del gradente los matoes puntos son el 3 y 4 de número de gurpos optimos. "
   ]
  },
  {
   "cell_type": "markdown",
   "metadata": {},
   "source": [
    "## Uso de Kmeans para clustering"
   ]
  },
  {
   "cell_type": "code",
   "execution_count": 11,
   "metadata": {
    "scrolled": true
   },
   "outputs": [
    {
     "data": {
      "image/png": "[encoded data removed]",
      "text/plain": [
       "<Figure size 432x288 with 1 Axes>"
      ]
     },
     "metadata": {
      "needs_background": "light"
     },
     "output_type": "display_data"
    }
   ],
   "source": [
    "# CLustering K-means\n",
    "inercias=np.zeros(20)\n",
    "\n",
    "for k in np.arange(1,20):\n",
    "    model=KMeans(n_clusters=k, random_state=42, init='k-means++')\n",
    "    model=model.fit(desempleo)\n",
    "    inercias[k]=model.inertia_\n",
    "    \n",
    "plt.plot(np.arange(1,20), inercias[1:])\n",
    "plt.xlabel('Número de grupos')\n",
    "plt.ylabel('Inercia global')\n",
    "plt.xlim(0,8)\n",
    "plt.show()"
   ]
  },
  {
   "cell_type": "code",
   "execution_count": 12,
   "metadata": {},
   "outputs": [
    {
     "data": {
      "text/plain": [
       "<mpl_toolkits.mplot3d.art3d.Path3DCollection at 0x2219569cb08>"
      ]
     },
     "execution_count": 12,
     "metadata": {},
     "output_type": "execute_result"
    },
    {
     "data": {
      "image/png": "[encoded data removed]",
      "text/plain": [
       "<Figure size 432x288 with 1 Axes>"
      ]
     },
     "metadata": {
      "needs_background": "light"
     },
     "output_type": "display_data"
    }
   ],
   "source": [
    "X= np.array(desempleo[['Año','Tasa de desocupación']])\n",
    "y= np.array(desempleo['Trimestre'])\n",
    "\n",
    "fig = plt.figure()\n",
    "ax = Axes3D(fig)\n",
    "colores = ['blue', 'red', 'green', 'blue', 'cyan']\n",
    "asignar=[]\n",
    "\n",
    "for row in y:\n",
    "    asignar.append(colores[row])\n",
    "ax.scatter(X[:,0], X[:,1],y, c=asignar, s=60)"
   ]
  },
  {
   "cell_type": "markdown",
   "metadata": {},
   "source": [
    "## Conclusión de Clustering:\n",
    "### Creemos que los clusters apropiados son 4, e incluso lo podemos ver en la gráfica, esto debido a los 4 trimestres del año"
   ]
  },
  {
   "cell_type": "code",
   "execution_count": 13,
   "metadata": {},
   "outputs": [],
   "source": [
    "# Aplicar PCA\n",
    "scaler = StandardScaler()\n",
    "scaler.fit(desempleo)\n",
    "# Escalar datos y estandarizarlos\n",
    "d_scaled = scaler.transform(desempleo)"
   ]
  },
  {
   "cell_type": "code",
   "execution_count": 14,
   "metadata": {},
   "outputs": [
    {
     "name": "stdout",
     "output_type": "stream",
     "text": [
      "[0.4003439  0.71989234 1.        ]\n"
     ]
    }
   ],
   "source": [
    "# Ahora aplicamos PCA  con 3 componentes \n",
    "pca = PCA(n_components = 3) \n",
    "pca.fit(d_scaled) #Obtener las componentes principales\n",
    "d_pca = pca.transform(d_scaled)\n",
    "print (pca.explained_variance_ratio_.cumsum())"
   ]
  },
  {
   "cell_type": "code",
   "execution_count": 15,
   "metadata": {},
   "outputs": [
    {
     "name": "stdout",
     "output_type": "stream",
     "text": [
      "tamaño de d_pca (57, 3)\n",
      "[0.4003439  0.31954844 0.28010766]\n",
      "suma 0.7198923435395257\n"
     ]
    }
   ],
   "source": [
    "print('tamaño de d_pca', d_pca.shape)\n",
    "expl = pca.explained_variance_ratio_\n",
    "print(expl)\n",
    "print('suma', sum(expl[0:2]))"
   ]
  },
  {
   "cell_type": "code",
   "execution_count": 16,
   "metadata": {},
   "outputs": [
    {
     "data": {
      "image/png": "[encoded data removed]",
      "text/plain": [
       "<Figure size 432x288 with 1 Axes>"
      ]
     },
     "metadata": {
      "needs_background": "light"
     },
     "output_type": "display_data"
    }
   ],
   "source": [
    "plt.plot(pca.explained_variance_ratio_.cumsum())\n",
    "plt.xlabel('número de componentes')\n",
    "plt.ylabel('Varianza acumulada')\n",
    "plt.show()\n"
   ]
  },
  {
   "cell_type": "markdown",
   "metadata": {},
   "source": [
    "## Podemos observar que si le quitamos un componente a nuestro dataset, perdemos el 28% de la información, no es recomendable remover una variable a costa de esta reducción de información."
   ]
  },
  {
   "cell_type": "markdown",
   "metadata": {},
   "source": [
    "## Regresión lineal con gradiente descendiente"
   ]
  },
  {
   "cell_type": "code",
   "execution_count": 17,
   "metadata": {},
   "outputs": [],
   "source": [
    "X_df = pd.DataFrame(desempleo.Trimestre)\n",
    "y_df = pd.DataFrame(desempleo['Tasa de desocupación'])\n",
    "m= len(y_df)"
   ]
  },
  {
   "cell_type": "code",
   "execution_count": 18,
   "metadata": {},
   "outputs": [
    {
     "data": {
      "text/plain": [
       "Text(0, 0.5, 'Tasa de desocupacion')"
      ]
     },
     "execution_count": 18,
     "metadata": {},
     "output_type": "execute_result"
    },
    {
     "data": {
      "image/png": "[encoded data removed]",
      "text/plain": [
       "<Figure size 720x576 with 1 Axes>"
      ]
     },
     "metadata": {
      "needs_background": "light"
     },
     "output_type": "display_data"
    }
   ],
   "source": [
    "plt.figure(figsize=(10,8))\n",
    "plt.plot(X_df, y_df, 'kx')\n",
    "plt.xlabel('Trimestre')\n",
    "plt.ylabel('Tasa de desocupacion')"
   ]
  },
  {
   "cell_type": "code",
   "execution_count": 19,
   "metadata": {},
   "outputs": [],
   "source": [
    "iteration=1500\n",
    "alpha = 0.01\n",
    "\n",
    "X_df['intercept']=1\n",
    "\n",
    "X=np.array(X_df)\n",
    "y=np.array(y_df).flatten()\n",
    "beta = np.array([0,0])\n",
    "\n"
   ]
  },
  {
   "cell_type": "code",
   "execution_count": 20,
   "metadata": {},
   "outputs": [],
   "source": [
    "def cost_function(X, y, beta):\n",
    "    ## numero de datos a entrenar\n",
    "    m=len(y)\n",
    "    #Calcular la funcion de costo\n",
    "    J= np.sum(X.dot(beta))\n",
    "    return J               \n"
   ]
  },
  {
   "cell_type": "code",
   "execution_count": 21,
   "metadata": {},
   "outputs": [
    {
     "data": {
      "text/plain": [
       "0"
      ]
     },
     "execution_count": 21,
     "metadata": {},
     "output_type": "execute_result"
    }
   ],
   "source": [
    "cost_function(X,y, beta)"
   ]
  },
  {
   "cell_type": "code",
   "execution_count": 22,
   "metadata": {},
   "outputs": [],
   "source": [
    "def gradient_descent (X, y, beta, alpha, iterations):\n",
    "    \n",
    "    cost_history = [0]*iterations\n",
    "    \n",
    "    for iteration in range(iterations):\n",
    "        y_hat = X.dot(beta)\n",
    "        loss = y_hat - y\n",
    "        gradient = X.T.dot(loss)/m\n",
    "        beta = beta -alpha*gradient\n",
    "        \n",
    "        cost = cost_function (X,y, beta)\n",
    "        cost_history[iteration]=cost\n",
    "    \n",
    "    return beta, cost_history"
   ]
  },
  {
   "cell_type": "code",
   "execution_count": 23,
   "metadata": {},
   "outputs": [
    {
     "name": "stdout",
     "output_type": "stream",
     "text": [
      "[0.23863875 3.51026815]\n"
     ]
    }
   ],
   "source": [
    "(beta, cost) = gradient_descent(X,y,beta,alpha,iteration)\n",
    "\n",
    "#Imprimir valores de beta\n",
    "print(beta)"
   ]
  },
  {
   "cell_type": "code",
   "execution_count": 24,
   "metadata": {},
   "outputs": [],
   "source": [
    "# imprimir el modelo que mejor se ajusta a los datos\n",
    "\n",
    "best_fit_x = np.linspace(0,25,20)\n",
    "best_fit_y = [beta[1] + beta[0]*xx for xx in best_fit_x]"
   ]
  },
  {
   "cell_type": "code",
   "execution_count": 25,
   "metadata": {},
   "outputs": [
    {
     "data": {
      "text/plain": [
       "Text(0, 0.5, 'Tasa de desocupacion')"
      ]
     },
     "execution_count": 25,
     "metadata": {},
     "output_type": "execute_result"
    },
    {
     "data": {
      "image/png": "[encoded data removed]",
      "text/plain": [
       "<Figure size 720x576 with 1 Axes>"
      ]
     },
     "metadata": {
      "needs_background": "light"
     },
     "output_type": "display_data"
    }
   ],
   "source": [
    "plt.figure(figsize=(10,8))\n",
    "plt.plot(X_df.Trimestre, y_df, 'k.')\n",
    "plt.plot(best_fit_x, best_fit_y, '-')\n",
    "plt.axis([0,6,1,6])\n",
    "plt.xlabel('Trimestre')\n",
    "plt.ylabel('Tasa de desocupacion')"
   ]
  },
  {
   "cell_type": "code",
   "execution_count": 26,
   "metadata": {},
   "outputs": [
    {
     "data": {
      "text/plain": [
       "4.464823159607224"
      ]
     },
     "execution_count": 26,
     "metadata": {},
     "output_type": "execute_result"
    }
   ],
   "source": [
    "#predecir un valor de 4 \n",
    "np.array([4,1]).dot(beta)\n"
   ]
  },
  {
   "cell_type": "code",
   "execution_count": 27,
   "metadata": {},
   "outputs": [
    {
     "data": {
      "text/plain": [
       "4.942100662062741"
      ]
     },
     "execution_count": 27,
     "metadata": {},
     "output_type": "execute_result"
    }
   ],
   "source": [
    "np.array([6,1]).dot(beta)"
   ]
  },
  {
   "cell_type": "markdown",
   "metadata": {},
   "source": [
    "### Conclusión \n",
    "- Nos podemos dar cuenta que la regresion lineal no nos funciona para poder estimar las tasas de desocupación por trimestre. Desde que vemos los datos, nos podemos percatar de que no es una buena manera de organizar la información, porque no sigue una forma de línea recta."
   ]
  },
  {
   "cell_type": "markdown",
   "metadata": {},
   "source": [
    "## Regresión Logistica"
   ]
  },
  {
   "cell_type": "code",
   "execution_count": 28,
   "metadata": {},
   "outputs": [],
   "source": [
    "\n",
    "import numpy as np\n",
    "import matplotlib.pyplot as plt\n",
    "import pandas as pd\n",
    "from sklearn.preprocessing import PolynomialFeatures\n",
    "from sklearn import linear_model\n",
    "from sklearn.metrics import (accuracy_score,precision_score,\n",
    "                             recall_score)"
   ]
  },
  {
   "cell_type": "code",
   "execution_count": 46,
   "metadata": {},
   "outputs": [
    {
     "data": {
      "image/png": "[encoded data removed]",
      "text/plain": [
       "<Figure size 432x288 with 1 Axes>"
      ]
     },
     "metadata": {
      "needs_background": "light"
     },
     "output_type": "display_data"
    }
   ],
   "source": [
    "X = np.array(desempleo[['Año','Tasa de desocupación']])\n",
    "Y = desempleo['Trimestre']\n",
    "plt.scatter(X[:,0], X[:,1], c=Y)\n",
    "plt.xlabel('Año')\n",
    "plt.ylabel('Tasa de desocupación')\n",
    "plt.show()"
   ]
  },
  {
   "cell_type": "markdown",
   "metadata": {},
   "source": [
    "## Representación 2D de la gráfica 3d que estaba más arriba, los colores son por trimestre (4 grupos)"
   ]
  },
  {
   "cell_type": "code",
   "execution_count": 30,
   "metadata": {},
   "outputs": [],
   "source": [
    "#peparacion del modelo de datos (crear el polinomio)\n",
    "ngrado=7\n",
    "poly = PolynomialFeatures(ngrado)\n",
    "Xa = poly.fit_transform(X)\n",
    "    "
   ]
  },
  {
   "cell_type": "code",
   "execution_count": 31,
   "metadata": {},
   "outputs": [],
   "source": [
    "# Crear y entrenar la regresion logística c=1/lambda\n",
    "modelo = linear_model.LogisticRegression(C=1e10)\n",
    "modelo.fit(Xa,Y)\n",
    "Yhat = modelo.predict(Xa)"
   ]
  },
  {
   "cell_type": "code",
   "execution_count": 32,
   "metadata": {},
   "outputs": [
    {
     "name": "stdout",
     "output_type": "stream",
     "text": [
      "0.2807017543859649\n",
      "0.14252753471768753\n",
      "0.2807017543859649\n"
     ]
    },
    {
     "name": "stderr",
     "output_type": "stream",
     "text": [
      "C:\\Users\\aleja\\anaconda3\\lib\\site-packages\\sklearn\\metrics\\_classification.py:1272: UndefinedMetricWarning: Precision is ill-defined and being set to 0.0 in labels with no predicted samples. Use `zero_division` parameter to control this behavior.\n",
      "  _warn_prf(average, modifier, msg_start, len(result))\n"
     ]
    }
   ],
   "source": [
    "#Evaluar al modelo\n",
    "\n",
    "print(accuracy_score(Y,Yhat))\n",
    "print(precision_score(Y,Yhat,average='weighted'))\n",
    "print(recall_score(Y,Yhat,average='weighted'))\n",
    "\n"
   ]
  },
  {
   "cell_type": "code",
   "execution_count": 33,
   "metadata": {},
   "outputs": [
    {
     "data": {
      "image/png": "[encoded data removed]",
      "text/plain": [
       "<Figure size 432x288 with 1 Axes>"
      ]
     },
     "metadata": {
      "needs_background": "light"
     },
     "output_type": "display_data"
    }
   ],
   "source": [
    "#%%visualizar la frontera de separacion\n",
    "\n",
    "h=0.01\n",
    "\n",
    "xmin, xmax, ymin, ymax = X[:,0].min(), X[:,0].max(), X[:,1].min(), X[:,1].max()\n",
    "\n",
    "xx,yy = np.meshgrid(np.arange(xmin,xmax,h),np.arange(ymin,ymax,h))\n",
    "\n",
    "Xnew = pd.DataFrame(np.c_[xx.ravel(),yy.ravel()])\n",
    "\n",
    "Xa_new = poly.fit_transform(Xnew)\n",
    "\n",
    "Z = modelo.predict(Xa_new)\n",
    "Z=Z.reshape(xx.shape)\n",
    "\n",
    "plt.contour(xx,yy,Z)\n",
    "plt.scatter(X[:,0],X[:,1], c= Y)\n",
    "plt.xlim(xmin,xmax)\n",
    "plt.ylim(ymin,ymax)\n",
    "plt.show()\n",
    "\n"
   ]
  },
  {
   "cell_type": "markdown",
   "metadata": {},
   "source": [
    "## Desde que vemos las métricas para medir la efectividad de la regresión para clasificar, nos podemos percatar de que no es muy buena, esto también lo podemos ver en la gráfica. Al ajustar los grados del polinomio, la regresión tampoco cambió en realidad. Esto se debe a lo pequeña que era nuestra base de datos, y la dispersión de los datos"
   ]
  },
  {
   "cell_type": "markdown",
   "metadata": {},
   "source": [
    "## SVM"
   ]
  },
  {
   "cell_type": "code",
   "execution_count": 34,
   "metadata": {},
   "outputs": [],
   "source": [
    "\n",
    "import numpy as np\n",
    "import matplotlib.pyplot as plt\n",
    "from sklearn import linear_model,svm\n",
    "from sklearn.metrics import (accuracy_score,\n",
    "                             precision_score,\n",
    "                             recall_score)\n",
    "import pandas as pd"
   ]
  },
  {
   "cell_type": "code",
   "execution_count": 35,
   "metadata": {},
   "outputs": [],
   "source": [
    "X = desempleo[['Año','Tasa de desocupación']]\n",
    "Y = desempleo['Trimestre']"
   ]
  },
  {
   "cell_type": "code",
   "execution_count": 36,
   "metadata": {},
   "outputs": [],
   "source": [
    "#%% Crear y entrenar el modelo SVM\n",
    "modelo_linear = svm.SVC(kernel='linear')\n",
    "modelo_poly = svm.SVC(kernel='poly',degree=2)\n",
    "modelo_rbf = svm.SVC(kernel='rbf')\n",
    "modelo_linear.fit(X,Y)\n",
    "modelo_poly.fit(X,Y)\n",
    "modelo_rbf.fit(X,Y)\n",
    "\n",
    "Yhat_svm_linear = modelo_linear.predict(X)\n",
    "Yhat_svm_poly = modelo_poly.predict(X)\n",
    "Yhat_svm_rbf = modelo_rbf.predict(X)"
   ]
  },
  {
   "cell_type": "code",
   "execution_count": 37,
   "metadata": {},
   "outputs": [
    {
     "name": "stdout",
     "output_type": "stream",
     "text": [
      "Accuracy : linear 0.3157894736842105\n",
      "Accuracy: poly 0.2631578947368421\n",
      "Accuracy: rbf 0.2631578947368421\n"
     ]
    }
   ],
   "source": [
    "Yhat_svm_linear = modelo_linear.predict(X)\n",
    "Yhat_svm_poly = modelo_poly.predict(X)\n",
    "Yhat_svm_rbf = modelo_rbf.predict(X)\n",
    "\n",
    "\n",
    "\n",
    "print('Accuracy : linear', accuracy_score(Y,Yhat_svm_linear))\n",
    "print('Accuracy: poly', accuracy_score(Y,Yhat_svm_poly))\n",
    "print('Accuracy: rbf', accuracy_score(Y,Yhat_svm_rbf))"
   ]
  },
  {
   "cell_type": "markdown",
   "metadata": {},
   "source": [
    "## El mejor modelo de los tres es el radial, sin embargo, sigue sin ser un buen modelo para los datos, no tiene un número muy alto de precisión."
   ]
  },
  {
   "cell_type": "markdown",
   "metadata": {},
   "source": [
    "## ¿Qué modelo es mejor? \n",
    "### Parece ser que SVM radial es el mejor comparado con los demás, porque tiene mayor precisión, pero sigue siendo algo deficiente en cuanto a la predicción.\n",
    "## ¿Sirve reducir variables antes del modelado?  ¿Se pudo o resulto útil reducir variables después del modelado?\n",
    "### No sirve reducir variables ni antes ni después del modelado, la base de datos es muy pequeña en cuanto a variables, entonces no se puede reducir un componente sin perder demasiada información en el proceso. "
   ]
  }
 ],
 "metadata": {
  "kernelspec": {
   "display_name": "Python 3",
   "language": "python",
   "name": "python3"
  },
  "language_info": {
   "codemirror_mode": {
    "name": "ipython",
    "version": 3
   },
   "file_extension": ".py",
   "mimetype": "text/x-python",
   "name": "python",
   "nbconvert_exporter": "python",
   "pygments_lexer": "ipython3",
   "version": "3.7.6"
  }
 },
 "nbformat": 4,
 "nbformat_minor": 2
}
